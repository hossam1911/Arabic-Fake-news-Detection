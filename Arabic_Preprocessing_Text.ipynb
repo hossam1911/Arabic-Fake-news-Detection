{
  "cells": [
    {
      "cell_type": "code",
      "execution_count": null,
      "metadata": {
        "id": "WC1iFbsaPfhE"
      },
      "outputs": [],
      "source": [
        "import pandas as pd \n",
        "import string\n",
        "import nltk\n",
        "import keras\n",
        "import sklearn\n",
        "import time\n",
        "import matplotlib.pyplot as plt\n",
        "import seaborn as snsimport numpy\n",
        "import numpy as np\n",
        "from time import time\n",
        "from nltk.corpus import stopwords\n",
        "import keras.preprocessing.text\n",
        "import pandas as pd"
      ]
    },
    {
      "cell_type": "code",
      "execution_count": null,
      "metadata": {
        "id": "zqDG4El1PfhR",
        "outputId": "58c0cb3d-93e3-43f8-99b0-2cacc8311803"
      },
      "outputs": [
        {
          "name": "stdout",
          "output_type": "stream",
          "text": [
            "Requirement already satisfied: ipykernel in c:\\users\\asus\\anaconda3\\lib\\site-packages (5.3.4)\n",
            "Collecting ipykernel\n",
            "  Downloading ipykernel-6.13.0-py3-none-any.whl (131 kB)\n",
            "Requirement already satisfied: psutil in c:\\users\\asus\\anaconda3\\lib\\site-packages (from ipykernel) (5.7.2)Note: you may need to restart the kernel to use updated packages.\n"
          ]
        },
        {
          "name": "stderr",
          "output_type": "stream",
          "text": [
            "WARNING: Ignoring invalid distribution -orch (c:\\users\\asus\\anaconda3\\lib\\site-packages)\n",
            "WARNING: Ignoring invalid distribution -orch (c:\\users\\asus\\anaconda3\\lib\\site-packages)\n",
            "WARNING: Ignoring invalid distribution -orch (c:\\users\\asus\\anaconda3\\lib\\site-packages)\n",
            "    WARNING: Ignoring invalid distribution -orch (c:\\users\\asus\\anaconda3\\lib\\site-packages)"
          ]
        },
        {
          "name": "stdout",
          "output_type": "stream",
          "text": [
            "\n",
            "Requirement already satisfied: packaging in c:\\users\\asus\\anaconda3\\lib\\site-packages (from ipykernel) (21.2)\n",
            "Collecting ipython>=7.23.1\n",
            "  Downloading ipython-8.2.0-py3-none-any.whl (750 kB)\n",
            "Collecting tornado>=6.1\n",
            "  Downloading tornado-6.1-cp38-cp38-win_amd64.whl (422 kB)\n",
            "Collecting matplotlib-inline>=0.1\n",
            "  Downloading matplotlib_inline-0.1.3-py3-none-any.whl (8.2 kB)\n",
            "Collecting traitlets>=5.1.0\n",
            "  Downloading traitlets-5.1.1-py3-none-any.whl (102 kB)\n",
            "Collecting debugpy>=1.0\n",
            "  Downloading debugpy-1.6.0-cp38-cp38-win_amd64.whl (4.3 MB)\n",
            "Requirement already satisfied: nest-asyncio in c:\\users\\asus\\anaconda3\\lib\\site-packages (from ipykernel) (1.4.2)\n",
            "Collecting jupyter-client>=6.1.12\n",
            "  Downloading jupyter_client-7.3.0-py3-none-any.whl (130 kB)\n",
            "Requirement already satisfied: colorama in c:\\users\\asus\\anaconda3\\lib\\site-packages (from ipython>=7.23.1->ipykernel) (0.4.4)\n",
            "Requirement already satisfied: pygments>=2.4.0 in c:\\users\\asus\\anaconda3\\lib\\site-packages (from ipython>=7.23.1->ipykernel) (2.7.2)\n",
            "Requirement already satisfied: prompt-toolkit!=3.0.0,!=3.0.1,<3.1.0,>=2.0.0 in c:\\users\\asus\\anaconda3\\lib\\site-packages (from ipython>=7.23.1->ipykernel) (3.0.8)\n",
            "Requirement already satisfied: pickleshare in c:\\users\\asus\\anaconda3\\lib\\site-packages (from ipython>=7.23.1->ipykernel) (0.7.5)\n",
            "Requirement already satisfied: jedi>=0.16 in c:\\users\\asus\\anaconda3\\lib\\site-packages (from ipython>=7.23.1->ipykernel) (0.17.1)\n",
            "Collecting stack-data\n",
            "  Downloading stack_data-0.2.0-py3-none-any.whl (21 kB)\n",
            "Requirement already satisfied: decorator in c:\\users\\asus\\anaconda3\\lib\\site-packages (from ipython>=7.23.1->ipykernel) (4.4.2)\n",
            "Requirement already satisfied: setuptools>=18.5 in c:\\users\\asus\\anaconda3\\lib\\site-packages (from ipython>=7.23.1->ipykernel) (50.3.1.post20201107)\n",
            "Requirement already satisfied: backcall in c:\\users\\asus\\anaconda3\\lib\\site-packages (from ipython>=7.23.1->ipykernel) (0.2.0)\n",
            "Requirement already satisfied: parso<0.8.0,>=0.7.0 in c:\\users\\asus\\anaconda3\\lib\\site-packages (from jedi>=0.16->ipython>=7.23.1->ipykernel) (0.7.0)\n",
            "Collecting pyzmq>=22.3\n",
            "  Downloading pyzmq-22.3.0-cp38-cp38-win_amd64.whl (1.0 MB)\n",
            "Collecting nest-asyncio\n",
            "  Downloading nest_asyncio-1.5.5-py3-none-any.whl (5.2 kB)\n",
            "Requirement already satisfied: entrypoints in c:\\users\\asus\\anaconda3\\lib\\site-packages (from jupyter-client>=6.1.12->ipykernel) (0.3)\n",
            "Collecting jupyter-core>=4.9.2\n",
            "  Downloading jupyter_core-4.10.0-py3-none-any.whl (87 kB)\n",
            "Collecting python-dateutil>=2.8.2\n",
            "  Downloading python_dateutil-2.8.2-py2.py3-none-any.whl (247 kB)\n",
            "Requirement already satisfied: pywin32>=1.0 in c:\\users\\asus\\anaconda3\\lib\\site-packages (from jupyter-core>=4.9.2->jupyter-client>=6.1.12->ipykernel) (227)\n",
            "Requirement already satisfied: wcwidth in c:\\users\\asus\\anaconda3\\lib\\site-packages (from prompt-toolkit!=3.0.0,!=3.0.1,<3.1.0,>=2.0.0->ipython>=7.23.1->ipykernel) (0.2.5)\n",
            "Requirement already satisfied: six>=1.5 in c:\\users\\asus\\anaconda3\\lib\\site-packages (from python-dateutil>=2.8.2->jupyter-client>=6.1.12->ipykernel) (1.15.0)\n",
            "Requirement already satisfied: pyparsing<3,>=2.0.2 in c:\\users\\asus\\anaconda3\\lib\\site-packages (from packaging->ipykernel) (2.4.7)\n",
            "Collecting pure-eval\n",
            "  Downloading pure_eval-0.2.2-py3-none-any.whl (11 kB)\n",
            "Collecting executing\n",
            "  Downloading executing-0.8.3-py2.py3-none-any.whl (16 kB)\n",
            "Collecting asttokens\n",
            "  Downloading asttokens-2.0.5-py2.py3-none-any.whl (20 kB)\n",
            "Installing collected packages: traitlets, pure-eval, executing, asttokens, tornado, stack-data, pyzmq, python-dateutil, nest-asyncio, matplotlib-inline, jupyter-core, jupyter-client, ipython, debugpy, ipykernel\n",
            "  Attempting uninstall: traitlets\n",
            "    Found existing installation: traitlets 5.0.5\n",
            "    Uninstalling traitlets-5.0.5:\n",
            "      Successfully uninstalled traitlets-5.0.5\n",
            "  Attempting uninstall: tornado\n",
            "    Found existing installation: tornado 6.0.4\n",
            "    Uninstalling tornado-6.0.4:\n",
            "      Successfully uninstalled tornado-6.0.4\n"
          ]
        },
        {
          "name": "stderr",
          "output_type": "stream",
          "text": [
            "\n",
            "    WARNING: Ignoring invalid distribution -orch (c:\\users\\asus\\anaconda3\\lib\\site-packages)\n",
            "ERROR: Could not install packages due to an OSError: [WinError 5] Access is denied: 'C:\\\\Users\\\\ASUS\\\\anaconda3\\\\Lib\\\\site-packages\\\\~ornado\\\\speedups.cp38-win_amd64.pyd'\n",
            "Consider using the `--user` option or check the permissions.\n",
            "\n",
            "WARNING: Ignoring invalid distribution -orch (c:\\users\\asus\\anaconda3\\lib\\site-packages)\n",
            "WARNING: Ignoring invalid distribution -orch (c:\\users\\asus\\anaconda3\\lib\\site-packages)\n",
            "WARNING: Ignoring invalid distribution -orch (c:\\users\\asus\\anaconda3\\lib\\site-packages)\n",
            "WARNING: You are using pip version 21.3.1; however, version 22.0.4 is available.\n",
            "You should consider upgrading via the 'C:\\Users\\ASUS\\anaconda3\\python.exe -m pip install --upgrade pip' command.\n"
          ]
        }
      ],
      "source": [
        "#pip install -U ipykernel"
      ]
    },
    {
      "cell_type": "markdown",
      "metadata": {},
      "source": [
        "### Importing Aranews Data"
      ]
    },
    {
      "cell_type": "code",
      "execution_count": null,
      "metadata": {
        "colab": {
          "base_uri": "https://localhost:8080/"
        },
        "id": "yLH_ZsknwRtH",
        "outputId": "f8b44c99-02c4-4893-98ab-cbe437de1719"
      },
      "outputs": [
        {
          "name": "stdout",
          "output_type": "stream",
          "text": [
            "Mounted at /content/drive\n"
          ]
        }
      ],
      "source": [
        "from google.colab import drive\n",
        "drive.mount('/content/drive')"
      ]
    },
    {
      "cell_type": "code",
      "execution_count": null,
      "metadata": {
        "colab": {
          "base_uri": "https://localhost:8080/",
          "height": 206
        },
        "id": "_EJm6kSx2zRu",
        "outputId": "221ecc89-a868-40eb-b584-f510bc2250ad"
      },
      "outputs": [
        {
          "data": {
            "text/html": [
              "\n",
              "  <div id=\"df-56c79af3-e644-4692-a777-37b34662445f\">\n",
              "    <div class=\"colab-df-container\">\n",
              "      <div>\n",
              "<style scoped>\n",
              "    .dataframe tbody tr th:only-of-type {\n",
              "        vertical-align: middle;\n",
              "    }\n",
              "\n",
              "    .dataframe tbody tr th {\n",
              "        vertical-align: top;\n",
              "    }\n",
              "\n",
              "    .dataframe thead th {\n",
              "        text-align: right;\n",
              "    }\n",
              "</style>\n",
              "<table border=\"1\" class=\"dataframe\">\n",
              "  <thead>\n",
              "    <tr style=\"text-align: right;\">\n",
              "      <th></th>\n",
              "      <th>Unnamed: 0</th>\n",
              "      <th>Sentence</th>\n",
              "      <th>Label</th>\n",
              "    </tr>\n",
              "  </thead>\n",
              "  <tbody>\n",
              "    <tr>\n",
              "      <th>0</th>\n",
              "      <td>329915</td>\n",
              "      <td>مراكشتعددت , في ال+ آون +ة ال+ أخير +ة , جرائم...</td>\n",
              "      <td>0</td>\n",
              "    </tr>\n",
              "    <tr>\n",
              "      <th>1</th>\n",
              "      <td>76605</td>\n",
              "      <td>\" و+ بينما أضاف فرانسوا مول +ين , ال+ مدعي ال+...</td>\n",
              "      <td>0</td>\n",
              "    </tr>\n",
              "    <tr>\n",
              "      <th>2</th>\n",
              "      <td>92817</td>\n",
              "      <td>\" مصر لم تخسر نهائي \" كان \" منذ 88 عام +ا صدام...</td>\n",
              "      <td>0</td>\n",
              "    </tr>\n",
              "    <tr>\n",
              "      <th>3</th>\n",
              "      <td>120592</td>\n",
              "      <td>\" و+ أكد مسؤول رفيع في ال+ وكال +ة ال+ فضائي +...</td>\n",
              "      <td>1</td>\n",
              "    </tr>\n",
              "    <tr>\n",
              "      <th>4</th>\n",
              "      <td>71748</td>\n",
              "      <td>\" و+ قال +ت ال+ شرط +ة ال+ بريطاني +ة +ان عملي...</td>\n",
              "      <td>1</td>\n",
              "    </tr>\n",
              "  </tbody>\n",
              "</table>\n",
              "</div>\n",
              "      <button class=\"colab-df-convert\" onclick=\"convertToInteractive('df-56c79af3-e644-4692-a777-37b34662445f')\"\n",
              "              title=\"Convert this dataframe to an interactive table.\"\n",
              "              style=\"display:none;\">\n",
              "        \n",
              "  <svg xmlns=\"http://www.w3.org/2000/svg\" height=\"24px\"viewBox=\"0 0 24 24\"\n",
              "       width=\"24px\">\n",
              "    <path d=\"M0 0h24v24H0V0z\" fill=\"none\"/>\n",
              "    <path d=\"M18.56 5.44l.94 2.06.94-2.06 2.06-.94-2.06-.94-.94-2.06-.94 2.06-2.06.94zm-11 1L8.5 8.5l.94-2.06 2.06-.94-2.06-.94L8.5 2.5l-.94 2.06-2.06.94zm10 10l.94 2.06.94-2.06 2.06-.94-2.06-.94-.94-2.06-.94 2.06-2.06.94z\"/><path d=\"M17.41 7.96l-1.37-1.37c-.4-.4-.92-.59-1.43-.59-.52 0-1.04.2-1.43.59L10.3 9.45l-7.72 7.72c-.78.78-.78 2.05 0 2.83L4 21.41c.39.39.9.59 1.41.59.51 0 1.02-.2 1.41-.59l7.78-7.78 2.81-2.81c.8-.78.8-2.07 0-2.86zM5.41 20L4 18.59l7.72-7.72 1.47 1.35L5.41 20z\"/>\n",
              "  </svg>\n",
              "      </button>\n",
              "      \n",
              "  <style>\n",
              "    .colab-df-container {\n",
              "      display:flex;\n",
              "      flex-wrap:wrap;\n",
              "      gap: 12px;\n",
              "    }\n",
              "\n",
              "    .colab-df-convert {\n",
              "      background-color: #E8F0FE;\n",
              "      border: none;\n",
              "      border-radius: 50%;\n",
              "      cursor: pointer;\n",
              "      display: none;\n",
              "      fill: #1967D2;\n",
              "      height: 32px;\n",
              "      padding: 0 0 0 0;\n",
              "      width: 32px;\n",
              "    }\n",
              "\n",
              "    .colab-df-convert:hover {\n",
              "      background-color: #E2EBFA;\n",
              "      box-shadow: 0px 1px 2px rgba(60, 64, 67, 0.3), 0px 1px 3px 1px rgba(60, 64, 67, 0.15);\n",
              "      fill: #174EA6;\n",
              "    }\n",
              "\n",
              "    [theme=dark] .colab-df-convert {\n",
              "      background-color: #3B4455;\n",
              "      fill: #D2E3FC;\n",
              "    }\n",
              "\n",
              "    [theme=dark] .colab-df-convert:hover {\n",
              "      background-color: #434B5C;\n",
              "      box-shadow: 0px 1px 3px 1px rgba(0, 0, 0, 0.15);\n",
              "      filter: drop-shadow(0px 1px 2px rgba(0, 0, 0, 0.3));\n",
              "      fill: #FFFFFF;\n",
              "    }\n",
              "  </style>\n",
              "\n",
              "      <script>\n",
              "        const buttonEl =\n",
              "          document.querySelector('#df-56c79af3-e644-4692-a777-37b34662445f button.colab-df-convert');\n",
              "        buttonEl.style.display =\n",
              "          google.colab.kernel.accessAllowed ? 'block' : 'none';\n",
              "\n",
              "        async function convertToInteractive(key) {\n",
              "          const element = document.querySelector('#df-56c79af3-e644-4692-a777-37b34662445f');\n",
              "          const dataTable =\n",
              "            await google.colab.kernel.invokeFunction('convertToInteractive',\n",
              "                                                     [key], {});\n",
              "          if (!dataTable) return;\n",
              "\n",
              "          const docLinkHtml = 'Like what you see? Visit the ' +\n",
              "            '<a target=\"_blank\" href=https://colab.research.google.com/notebooks/data_table.ipynb>data table notebook</a>'\n",
              "            + ' to learn more about interactive tables.';\n",
              "          element.innerHTML = '';\n",
              "          dataTable['output_type'] = 'display_data';\n",
              "          await google.colab.output.renderOutput(dataTable, element);\n",
              "          const docLink = document.createElement('div');\n",
              "          docLink.innerHTML = docLinkHtml;\n",
              "          element.appendChild(docLink);\n",
              "        }\n",
              "      </script>\n",
              "    </div>\n",
              "  </div>\n",
              "  "
            ],
            "text/plain": [
              "   Unnamed: 0                                           Sentence  Label\n",
              "0      329915  مراكشتعددت , في ال+ آون +ة ال+ أخير +ة , جرائم...      0\n",
              "1       76605  \" و+ بينما أضاف فرانسوا مول +ين , ال+ مدعي ال+...      0\n",
              "2       92817  \" مصر لم تخسر نهائي \" كان \" منذ 88 عام +ا صدام...      0\n",
              "3      120592  \" و+ أكد مسؤول رفيع في ال+ وكال +ة ال+ فضائي +...      1\n",
              "4       71748  \" و+ قال +ت ال+ شرط +ة ال+ بريطاني +ة +ان عملي...      1"
            ]
          },
          "execution_count": 13,
          "metadata": {},
          "output_type": "execute_result"
        }
      ],
      "source": [
        "\n",
        "df = pd.read_csv('/content/drive/MyDrive/Untitled folder/Arabic_pre3.csv',sep=',',error_bad_lines=False)\n",
        "df.head()"
      ]
    },
    {
      "cell_type": "code",
      "execution_count": null,
      "metadata": {
        "colab": {
          "base_uri": "https://localhost:8080/"
        },
        "id": "ik2BXi2x276M",
        "outputId": "648a85c5-215a-401f-fdd8-11a1391d2b0c"
      },
      "outputs": [
        {
          "data": {
            "text/plain": [
              "1    243635\n",
              "0    243325\n",
              "Name: Label, dtype: int64"
            ]
          },
          "execution_count": 21,
          "metadata": {},
          "output_type": "execute_result"
        }
      ],
      "source": [
        "df.Label.value_counts()"
      ]
    },
    {
      "cell_type": "code",
      "execution_count": null,
      "metadata": {
        "id": "lv5Y67yMPfhY",
        "outputId": "23be859f-9907-47a1-fafb-064f2967598d"
      },
      "outputs": [
        {
          "data": {
            "text/html": [
              "<div>\n",
              "<style scoped>\n",
              "    .dataframe tbody tr th:only-of-type {\n",
              "        vertical-align: middle;\n",
              "    }\n",
              "\n",
              "    .dataframe tbody tr th {\n",
              "        vertical-align: top;\n",
              "    }\n",
              "\n",
              "    .dataframe thead th {\n",
              "        text-align: right;\n",
              "    }\n",
              "</style>\n",
              "<table border=\"1\" class=\"dataframe\">\n",
              "  <thead>\n",
              "    <tr style=\"text-align: right;\">\n",
              "      <th></th>\n",
              "      <th>Sentence</th>\n",
              "      <th>Label</th>\n",
              "    </tr>\n",
              "  </thead>\n",
              "  <tbody>\n",
              "    <tr>\n",
              "      <th>0</th>\n",
              "      <td>\"وقال نقيب المحامين في كلمته بالمناسبة , اصالة...</td>\n",
              "      <td>Not_fake</td>\n",
              "    </tr>\n",
              "    <tr>\n",
              "      <th>1</th>\n",
              "      <td>نفذت سرقات في جنح الظلام استهدفت 888 راسا من ا...</td>\n",
              "      <td>Fake</td>\n",
              "    </tr>\n",
              "    <tr>\n",
              "      <th>2</th>\n",
              "      <td>ولم تتمكن الدراسة من تحديد مدة تعاطي المسكنات ...</td>\n",
              "      <td>Not_fake</td>\n",
              "    </tr>\n",
              "    <tr>\n",
              "      <th>3</th>\n",
              "      <td>وينتظر ان تكون الشرطة القضائية احالت المتهم عل...</td>\n",
              "      <td>Not_fake</td>\n",
              "    </tr>\n",
              "    <tr>\n",
              "      <th>4</th>\n",
              "      <td>واكد بنشماش علي الموقف الراسخ والثابت علي مر ا...</td>\n",
              "      <td>Not_fake</td>\n",
              "    </tr>\n",
              "  </tbody>\n",
              "</table>\n",
              "</div>"
            ],
            "text/plain": [
              "                                            Sentence     Label\n",
              "0  \"وقال نقيب المحامين في كلمته بالمناسبة , اصالة...  Not_fake\n",
              "1  نفذت سرقات في جنح الظلام استهدفت 888 راسا من ا...      Fake\n",
              "2  ولم تتمكن الدراسة من تحديد مدة تعاطي المسكنات ...  Not_fake\n",
              "3  وينتظر ان تكون الشرطة القضائية احالت المتهم عل...  Not_fake\n",
              "4  واكد بنشماش علي الموقف الراسخ والثابت علي مر ا...  Not_fake"
            ]
          },
          "execution_count": 58,
          "metadata": {},
          "output_type": "execute_result"
        }
      ],
      "source": [
        "df = pd.read_csv(r\"E:\\My Data\\Graduation project work\\datasets\\Arabic fake news dataset\\ZeroShot_train_ArNews_5X.tsv\",sep='\\t',header=0)\n",
        "df.head()"
      ]
    },
    {
      "cell_type": "code",
      "execution_count": null,
      "metadata": {
        "id": "uAKYUr0JPfha",
        "outputId": "3def10d7-630c-4888-a503-8be326ab1918"
      },
      "outputs": [
        {
          "name": "stdout",
          "output_type": "stream",
          "text": [
            "<class 'pandas.core.frame.DataFrame'>\n",
            "RangeIndex: 486960 entries, 0 to 486959\n",
            "Data columns (total 2 columns):\n",
            " #   Column    Non-Null Count   Dtype \n",
            "---  ------    --------------   ----- \n",
            " 0   Sentence  486297 non-null  object\n",
            " 1   Label     486960 non-null  object\n",
            "dtypes: object(2)\n",
            "memory usage: 7.4+ MB\n"
          ]
        }
      ],
      "source": [
        "df.info()"
      ]
    },
    {
      "cell_type": "code",
      "execution_count": null,
      "metadata": {
        "id": "-HGkgQkkPfhd",
        "outputId": "f7b2eaf4-d643-4559-b7fb-f0b7f773f2a4"
      },
      "outputs": [
        {
          "name": "stdout",
          "output_type": "stream",
          "text": [
            "<class 'pandas.core.frame.DataFrame'>\n",
            "RangeIndex: 194784 entries, 0 to 194783\n",
            "Data columns (total 2 columns):\n",
            " #   Column    Non-Null Count   Dtype \n",
            "---  ------    --------------   ----- \n",
            " 0   Sentence  194645 non-null  object\n",
            " 1   Label     194784 non-null  object\n",
            "dtypes: object(2)\n",
            "memory usage: 3.0+ MB\n"
          ]
        }
      ],
      "source": [
        "df2=pd.read_csv('E:\\My Data\\Graduation project work\\datasets\\Arabic fake news dataset\\Arabic_News.csv')\n",
        "df2.info()"
      ]
    },
    {
      "cell_type": "code",
      "execution_count": null,
      "metadata": {
        "id": "jvIJwPv2Pfhf",
        "outputId": "0b03a4a6-5930-4e37-f05a-321762d486f8"
      },
      "outputs": [
        {
          "data": {
            "text/plain": [
              "Index(['Sentence', 'Label'], dtype='object')"
            ]
          },
          "execution_count": 63,
          "metadata": {},
          "output_type": "execute_result"
        }
      ],
      "source": [
        "df.columns"
      ]
    },
    {
      "cell_type": "markdown",
      "metadata": {},
      "source": [
        "### Merging the datasets"
      ]
    },
    {
      "cell_type": "code",
      "execution_count": null,
      "metadata": {
        "id": "2uGofQJWPfhg"
      },
      "outputs": [],
      "source": [
        "df_merge =pd.concat([df2, df], axis =0 )"
      ]
    },
    {
      "cell_type": "code",
      "execution_count": null,
      "metadata": {
        "id": "rc9d6WoVPfhi",
        "outputId": "1e3c18c0-12bc-439e-ed90-b11c7f864281"
      },
      "outputs": [
        {
          "data": {
            "text/html": [
              "<div>\n",
              "<style scoped>\n",
              "    .dataframe tbody tr th:only-of-type {\n",
              "        vertical-align: middle;\n",
              "    }\n",
              "\n",
              "    .dataframe tbody tr th {\n",
              "        vertical-align: top;\n",
              "    }\n",
              "\n",
              "    .dataframe thead th {\n",
              "        text-align: right;\n",
              "    }\n",
              "</style>\n",
              "<table border=\"1\" class=\"dataframe\">\n",
              "  <thead>\n",
              "    <tr style=\"text-align: right;\">\n",
              "      <th></th>\n",
              "      <th>Sentence</th>\n",
              "      <th>Label</th>\n",
              "    </tr>\n",
              "  </thead>\n",
              "  <tbody>\n",
              "    <tr>\n",
              "      <th>0</th>\n",
              "      <td>وشارك في الندوة وزيرة السياحة والاثار رولا معا...</td>\n",
              "      <td>Not_fake</td>\n",
              "    </tr>\n",
              "    <tr>\n",
              "      <th>1</th>\n",
              "      <td>وتحتل جهة الشاوية ورديغة , الرتبة الاولي في ال...</td>\n",
              "      <td>Fake</td>\n",
              "    </tr>\n",
              "    <tr>\n",
              "      <th>2</th>\n",
              "      <td>\"دول اختارت استراتيجية دقيقة لمواجهة الجوائح ر...</td>\n",
              "      <td>Fake</td>\n",
              "    </tr>\n",
              "    <tr>\n",
              "      <th>3</th>\n",
              "      <td>وتابع :  مع ذلك , نريد ان نتخذ هذه الخطوة .</td>\n",
              "      <td>Not_fake</td>\n",
              "    </tr>\n",
              "    <tr>\n",
              "      <th>4</th>\n",
              "      <td>\"ونبه المدير العام للمكتب الوطني المغربي للسيا...</td>\n",
              "      <td>Fake</td>\n",
              "    </tr>\n",
              "  </tbody>\n",
              "</table>\n",
              "</div>"
            ],
            "text/plain": [
              "                                            Sentence     Label\n",
              "0  وشارك في الندوة وزيرة السياحة والاثار رولا معا...  Not_fake\n",
              "1  وتحتل جهة الشاوية ورديغة , الرتبة الاولي في ال...      Fake\n",
              "2  \"دول اختارت استراتيجية دقيقة لمواجهة الجوائح ر...      Fake\n",
              "3        وتابع :  مع ذلك , نريد ان نتخذ هذه الخطوة .  Not_fake\n",
              "4  \"ونبه المدير العام للمكتب الوطني المغربي للسيا...      Fake"
            ]
          },
          "execution_count": 65,
          "metadata": {},
          "output_type": "execute_result"
        }
      ],
      "source": [
        "df_merge.head()"
      ]
    },
    {
      "cell_type": "code",
      "execution_count": null,
      "metadata": {
        "id": "Nx-1VT4dPfhm"
      },
      "outputs": [],
      "source": [
        "df_merge=df_merge.fillna(\" \")"
      ]
    },
    {
      "cell_type": "code",
      "execution_count": null,
      "metadata": {
        "id": "ItXBZLBnPfhn",
        "outputId": "34055702-3c09-4ea0-e99d-81599d5aa0e0"
      },
      "outputs": [
        {
          "data": {
            "text/html": [
              "<div>\n",
              "<style scoped>\n",
              "    .dataframe tbody tr th:only-of-type {\n",
              "        vertical-align: middle;\n",
              "    }\n",
              "\n",
              "    .dataframe tbody tr th {\n",
              "        vertical-align: top;\n",
              "    }\n",
              "\n",
              "    .dataframe thead th {\n",
              "        text-align: right;\n",
              "    }\n",
              "</style>\n",
              "<table border=\"1\" class=\"dataframe\">\n",
              "  <thead>\n",
              "    <tr style=\"text-align: right;\">\n",
              "      <th></th>\n",
              "      <th>Sentence</th>\n",
              "      <th>Label</th>\n",
              "    </tr>\n",
              "  </thead>\n",
              "  <tbody>\n",
              "    <tr>\n",
              "      <th>0</th>\n",
              "      <td>وشارك في الندوة وزيرة السياحة والاثار رولا معا...</td>\n",
              "      <td>1</td>\n",
              "    </tr>\n",
              "    <tr>\n",
              "      <th>1</th>\n",
              "      <td>وتحتل جهة الشاوية ورديغة , الرتبة الاولي في ال...</td>\n",
              "      <td>0</td>\n",
              "    </tr>\n",
              "    <tr>\n",
              "      <th>2</th>\n",
              "      <td>\"دول اختارت استراتيجية دقيقة لمواجهة الجوائح ر...</td>\n",
              "      <td>0</td>\n",
              "    </tr>\n",
              "    <tr>\n",
              "      <th>3</th>\n",
              "      <td>وتابع :  مع ذلك , نريد ان نتخذ هذه الخطوة .</td>\n",
              "      <td>1</td>\n",
              "    </tr>\n",
              "    <tr>\n",
              "      <th>4</th>\n",
              "      <td>\"ونبه المدير العام للمكتب الوطني المغربي للسيا...</td>\n",
              "      <td>0</td>\n",
              "    </tr>\n",
              "  </tbody>\n",
              "</table>\n",
              "</div>"
            ],
            "text/plain": [
              "                                            Sentence Label\n",
              "0  وشارك في الندوة وزيرة السياحة والاثار رولا معا...     1\n",
              "1  وتحتل جهة الشاوية ورديغة , الرتبة الاولي في ال...     0\n",
              "2  \"دول اختارت استراتيجية دقيقة لمواجهة الجوائح ر...     0\n",
              "3        وتابع :  مع ذلك , نريد ان نتخذ هذه الخطوة .     1\n",
              "4  \"ونبه المدير العام للمكتب الوطني المغربي للسيا...     0"
            ]
          },
          "execution_count": 70,
          "metadata": {},
          "output_type": "execute_result"
        }
      ],
      "source": [
        "\n",
        "df_merge.loc[(df_merge['Label'] == 'Not_fake'), ['Label']] = '1'\n",
        "df_merge.loc[(df_merge['Label'] == 'Fake'), ['Label']] = '0'\n",
        "df_merge.head()"
      ]
    },
    {
      "cell_type": "code",
      "execution_count": null,
      "metadata": {
        "id": "DOA0Xg29Pfho"
      },
      "outputs": [],
      "source": [
        "df.drop_duplicates(inplace = True)"
      ]
    },
    {
      "cell_type": "code",
      "execution_count": null,
      "metadata": {
        "id": "Acty_eK6Pfht",
        "outputId": "d9bc0db7-8f5b-43f6-e75c-722ae756dbd9"
      },
      "outputs": [
        {
          "name": "stdout",
          "output_type": "stream",
          "text": [
            "<class 'pandas.core.frame.DataFrame'>\n",
            "RangeIndex: 486960 entries, 0 to 486959\n",
            "Data columns (total 2 columns):\n",
            " #   Column    Non-Null Count   Dtype \n",
            "---  ------    --------------   ----- \n",
            " 0   Sentence  486297 non-null  object\n",
            " 1   Label     486960 non-null  object\n",
            "dtypes: object(2)\n",
            "memory usage: 7.4+ MB\n"
          ]
        }
      ],
      "source": [
        "df.info()"
      ]
    },
    {
      "cell_type": "markdown",
      "metadata": {
        "id": "ea-HG-40Pfhv"
      },
      "source": [
        "Fake    96426\n",
        "Real    94112"
      ]
    },
    {
      "cell_type": "code",
      "execution_count": null,
      "metadata": {
        "id": "nz7J5Ja3Pfh2",
        "outputId": "91d3c57d-f664-4fd7-cbcc-34baecced988"
      },
      "outputs": [
        {
          "data": {
            "text/plain": [
              "1    341089\n",
              "0    340655\n",
              "Name: Label, dtype: int64"
            ]
          },
          "execution_count": 84,
          "metadata": {},
          "output_type": "execute_result"
        }
      ],
      "source": [
        "df_merge.Label.value_counts()"
      ]
    },
    {
      "cell_type": "code",
      "execution_count": null,
      "metadata": {
        "id": "Xk-8M37KPfh5",
        "outputId": "a64db8fc-d31a-4833-d38d-d0c0544392e9"
      },
      "outputs": [
        {
          "data": {
            "text/plain": [
              "str"
            ]
          },
          "execution_count": 86,
          "metadata": {},
          "output_type": "execute_result"
        }
      ],
      "source": [
        "type(df_merge['Sentence'][2])"
      ]
    },
    {
      "cell_type": "code",
      "execution_count": null,
      "metadata": {
        "id": "hn2Tml7KPfh7"
      },
      "outputs": [],
      "source": [
        "df_merge=df_merge.reset_index(drop=True)"
      ]
    },
    {
      "cell_type": "code",
      "execution_count": null,
      "metadata": {
        "id": "toMzc2ISPfif",
        "outputId": "87496e88-7ba9-420f-e41e-e8d10f8dbed9"
      },
      "outputs": [
        {
          "data": {
            "text/plain": [
              "'88 % , علي الرغم من انخفاض اسعار الفواكه الطازجة بمقدار 8 .'"
            ]
          },
          "execution_count": 87,
          "metadata": {},
          "output_type": "execute_result"
        }
      ],
      "source": [
        "df_merge['Sentence'][66]\n"
      ]
    },
    {
      "cell_type": "code",
      "execution_count": null,
      "metadata": {
        "id": "d8y31nynPfig",
        "outputId": "dbac2d65-a504-4ca0-e177-1a6d886c73ef"
      },
      "outputs": [
        {
          "data": {
            "text/plain": [
              "0         Not_fake\n",
              "1             Fake\n",
              "2         Not_fake\n",
              "3         Not_fake\n",
              "4         Not_fake\n",
              "            ...   \n",
              "486955        Fake\n",
              "486956    Not_fake\n",
              "486957        Fake\n",
              "486958    Not_fake\n",
              "486959    Not_fake\n",
              "Name: Label, Length: 486960, dtype: object"
            ]
          },
          "execution_count": 88,
          "metadata": {},
          "output_type": "execute_result"
        }
      ],
      "source": [
        "df['Label']"
      ]
    },
    {
      "cell_type": "code",
      "execution_count": null,
      "metadata": {
        "id": "VDX4I6t2Pfih",
        "outputId": "523eebaa-89cb-48d9-9d26-0ac14bb77314"
      },
      "outputs": [
        {
          "data": {
            "text/plain": [
              "'\"واورد ابن خلدون في مقدمته اسباب لجوء عدد من المفسرين الي بعض اليهود واسفارهم لتفسير بعض القصص والاحداث , قائلا \"\" وقد جمع المتقدمون . . . , الا ان كتبهم ومنقولاتهم تشتمل علي الغث والسمين , والمقبول والمردود , والسبب في ذلك ان العرب لم يكونوا اهل كتاب ويحفظن علم , وانما غلبت عليهم البداوة والامية \"\" , ويضيف ابن خلدون \"\" واذا تشوقوا الي معرفة شيء مما تتشوق اليه النفوس البشرية في اسباب المكونات , وبدء الخليقة , واسرار الوجود , فانما يسالون عنها اهل الكتاب قبلهم , ويستفيدون \"\" .\"'"
            ]
          },
          "execution_count": 89,
          "metadata": {},
          "output_type": "execute_result"
        }
      ],
      "source": [
        "df['Sentence'][40]"
      ]
    },
    {
      "cell_type": "markdown",
      "metadata": {},
      "source": [
        "## Text preprocessing in an Arabic text\n",
        "#### includes functions for transliteration, stemming, normalization, and stop-word removal."
      ]
    },
    {
      "cell_type": "code",
      "execution_count": null,
      "metadata": {
        "id": "TT-Da0LUPfil"
      },
      "outputs": [],
      "source": [
        "from nltk.corpus import stopwords\n",
        "from textblob import TextBlob\n",
        "import re\n",
        "from dsaraby import DSAraby\n",
        "from tashaphyne.stemming import ArabicLightStemmer\n",
        "from nltk.stem.isri import ISRIStemmer\n",
        "\n",
        "# Load Arabic stop words\n",
        "stops = set(stopwords.words(\"arabic\"))\n",
        "stop_word_comp = {\"،\", \"آض\", \"آمينَ\", \"آه\", \"آهاً\", \"آي\", \"أ\", \"أب\", \"أجل\", ...}\n",
        "\n",
        "# Initialize Arabic stemming tools\n",
        "ds = DSAraby()\n",
        "ArListem = ArabicLightStemmer()\n",
        "\n",
        "def to_arabic(text):\n",
        "    \"\"\"Transliterate text to Arabic.\"\"\"\n",
        "    return ds.transliterate(text)\n",
        "\n",
        "def stem(text):\n",
        "    \"\"\"Apply Arabic stemming to a given text.\"\"\"\n",
        "    zen = TextBlob(text)\n",
        "    words = zen.words\n",
        "    cleaned = list()\n",
        "    for w in words:\n",
        "        ArListem.light_stem(w)\n",
        "        cleaned.append(ArListem.get_root())\n",
        "    return \" \".join(cleaned)\n",
        "\n",
        "def normalizeArabic(text):\n",
        "    \"\"\"Normalize Arabic text by removing diacritics and noise.\"\"\"\n",
        "    text = text.strip()\n",
        "    text = re.sub(\"[إأٱآا]\", \"ا\", text)\n",
        "    text = re.sub(\"ى\", \"ي\", text)\n",
        "    text = re.sub(\"ؤ\", \"ء\", text)\n",
        "    text = re.sub(\"ئ\", \"ء\", text)\n",
        "    text = re.sub(\"ة\", \"ه\", text)\n",
        "    noise = re.compile(\"\"\" ّ    | # Tashdid\n",
        "                             َ    | # Fatha\n",
        "                             ً    | # Tanwin Fath\n",
        "                             ُ    | # Damma\n",
        "                             ٌ    | # Tanwin Damm\n",
        "                             ِ    | # Kasra\n",
        "                             ٍ    | # Tanwin Kasr\n",
        "                             ْ    | # Sukun\n",
        "                             ـ     # Tatwil/Kashida\n",
        "                         \"\"\", re.VERBOSE)\n",
        "    text = re.sub(noise, '', text)\n",
        "    text = re.sub(r'(.)\\1+', r\"\\1\\1\", text) # Remove longation\n",
        "    return araby.strip_tashkeel(text)\n",
        "\n",
        "def remove_stop_words(text):\n",
        "    \"\"\"Remove Arabic stop words from a given text.\"\"\"\n",
        "    zen = TextBlob(text)\n",
        "    words = zen.words\n",
        "    return \" \".join([w for w in words if not w in stops and not w in stop_word_comp and len(w) >= 2])\n"
      ]
    },
    {
      "cell_type": "code",
      "execution_count": null,
      "metadata": {
        "id": "mqIqUALZPfio"
      },
      "outputs": [],
      "source": [
        "def clean_tweet(text):\n",
        "    text = re.sub('#\\d+K\\d+', ' ', text)  # years like 2K19\n",
        "    text = re.sub('http\\S+\\s*', ' ', text)  # remove URLs\n",
        "    text = re.sub('RT|cc', ' ', text)  # remove RT and cc\n",
        "    text = re.sub('@[^\\s]+',' ',text)\n",
        "    text = clean_hashtag(text)\n",
        "    #text = clean_emoji(text)\n",
        "    return text"
      ]
    },
    {
      "cell_type": "code",
      "execution_count": null,
      "metadata": {
        "id": "kCBRXd0APfit"
      },
      "outputs": [],
      "source": [
        "from __future__ import unicode_literals\n",
        "import re\n",
        "import emoji\n",
        "from aiogoogletrans import Translator\n",
        "import asyncio\n",
        "\n",
        "# Function to remove emojis from text\n",
        "def remove_emoji(text):\n",
        "    \"\"\"\n",
        "    Remove emojis from the given text.\n",
        "\n",
        "    Parameters:\n",
        "    - text (str): The input text.\n",
        "\n",
        "    Returns:\n",
        "    - str: Text with emojis removed.\n",
        "    \"\"\"\n",
        "    emoji_pattern = re.compile(\"[\"\n",
        "                               u\"\\U0001F600-\\U0001F64F\"  # emoticons\n",
        "                               u\"\\U0001F300-\\U0001F5FF\"  # symbols & pictographs\n",
        "                               u\"\\U0001F680-\\U0001F6FF\"  # transport & map symbols\n",
        "                               u\"\\U0001F1E0-\\U0001F1FF\"  # flags (iOS)\n",
        "                               u\"\\U00002702-\\U000027B0\"\n",
        "                               u\"\\U000024C2-\\U0001F251\"\n",
        "                               \"]+\", flags=re.UNICODE)\n",
        "    text = emoji_pattern.sub(r'', text)\n",
        "    return text\n",
        "\n",
        "# Function to translate emoji expressions to Arabic\n",
        "def emoji_native_translation(text):\n",
        "    \"\"\"\n",
        "    Translate native emoji expressions to Arabic equivalents.\n",
        "\n",
        "    Parameters:\n",
        "    - text (str): The input text.\n",
        "\n",
        "    Returns:\n",
        "    - str: Translated text.\n",
        "    \"\"\"\n",
        "    text = text.lower()\n",
        "    loves = [\"<3\", \"♥\", '❤']\n",
        "    smilefaces = []\n",
        "    sadfaces = []\n",
        "    neutralfaces = []\n",
        "\n",
        "    eyes = [\"8\", \":\", \"=\", \";\"]\n",
        "    nose = [\"'\", \"`\", \"-\", r\"\\\\\"]\n",
        "    # ... (rest of the code)\n",
        "\n",
        "    return newText\n",
        "\n",
        "# Function to check if a word is an emoji\n",
        "def is_emoji(word):\n",
        "    \"\"\"\n",
        "    Check if a word is an emoji.\n",
        "\n",
        "    Parameters:\n",
        "    - word (str): The word to check.\n",
        "\n",
        "    Returns:\n",
        "    - bool: True if the word is an emoji, False otherwise.\n",
        "    \"\"\"\n",
        "    if word in emojis_ar:\n",
        "        return True\n",
        "    else:\n",
        "        return False\n",
        "\n",
        "# Function to add space around emojis\n",
        "def add_space(text):\n",
        "    \"\"\"\n",
        "    Add space around emojis in the given text.\n",
        "\n",
        "    Parameters:\n",
        "    - text (str): The input text.\n",
        "\n",
        "    Returns:\n",
        "    - str: Text with spaces around emojis.\n",
        "    \"\"\"\n",
        "    return ''.join(' ' + char if is_emoji(char) else char for char in text).strip()\n",
        "\n",
        "# Function to clean emojis in a text\n",
        "def clean_emoji(text):\n",
        "    \"\"\"\n",
        "    Clean emojis in the given text.\n",
        "\n",
        "    Parameters:\n",
        "    - text (str): The input text.\n",
        "\n",
        "    Returns:\n",
        "    - str: Cleaned text.\n",
        "    \"\"\"\n",
        "    text = emoji_native_translation(text)\n",
        "    text = remove_emoji(text)\n",
        "    return text\n",
        "\n",
        "# Initialize Translator\n",
        "translator = Translator()\n",
        "loop = asyncio.get_event_loop()"
      ]
    },
    {
      "cell_type": "code",
      "execution_count": null,
      "metadata": {
        "id": "ufUc1t12Pfiq"
      },
      "outputs": [],
      "source": [
        "def clean_text(text):\n",
        "    ## Clean for tweets\n",
        "    text = clean_tweet(text)\n",
        "    ## Remove punctuations\n",
        "    text = re.sub('[%s]' % re.escape(\"\"\"!\"#$%&'()*+,،-./:;<=>؟?@[\\]^_`{|}~\"\"\"), ' ', text)  # remove punctuation\n",
        "    ## remove extra whitespace\n",
        "    text = re.sub('\\s+', ' ', text)  \n",
        "    ## Remove Emojis\n",
        "    #text = remove_emoji(text)\n",
        "    ## Convert text to lowercases\n",
        "    text = text.lower()\n",
        "    ## Arabisy the text\n",
        "    text = to_arabic(text)\n",
        "    ## Remove stop words\n",
        "    text = remove_stop_words(text)\n",
        "    ## Remove numbers\n",
        "    text = re.sub(\"\\d+\", \" \", text)\n",
        "    ## Remove Tashkeel\n",
        "    text = normalizeArabic(text)\n",
        "    #text = re.sub('\\W+', ' ', text)\n",
        "    text = re.sub('[A-Za-z]+',' ',text)\n",
        "    text = re.sub(r'\\\\u[A-Za-z0-9\\\\]+',' ',text)\n",
        "    ## remove extra whitespace\n",
        "    text = re.sub('\\s+', ' ', text)  \n",
        "    #Stemming\n",
        "    text = stem(text)\n",
        "    return text"
      ]
    },
    {
      "cell_type": "code",
      "execution_count": null,
      "metadata": {
        "id": "ITXB_LwmPfix"
      },
      "outputs": [],
      "source": [
        "#Applying the preprocessing functions\n",
        "df_merge['Sentence'] = df_merge['Sentence'].apply(lambda x:clean_text(x))"
      ]
    },
    {
      "cell_type": "markdown",
      "metadata": {},
      "source": [
        "### Sample of preprocessed text"
      ]
    },
    {
      "cell_type": "code",
      "execution_count": null,
      "metadata": {
        "id": "Vc7PMSuhPfiy",
        "outputId": "acca238b-369f-4ed2-8aee-94c2a9731450"
      },
      "outputs": [
        {
          "name": "stdout",
          "output_type": "stream",
          "text": [
            "وشارك الندوه وزيره السياحه والاثار رولا معايعه ووزير شءون القدس عدنان الحسيني ومفتي القدس والديار الفلسطيني الشيخ محمد حسين وقاضي القضاه الشرعي الدكتور محمود الهباش والدكتور تيسير جردات وكيل وزاره الخارجيه والمطران عطا الله حنا وسفيري الاردن والمغرب اضافه الي ممثل منظمه التعاون الاسلامي لدي دوله فلسطين السفير احمد الرويضي وعدد ممثلي المءسسات السياحيه الفلسطينيه القدس\n",
            "1\n",
            "وتحتل جهه الشاويه ورديغه الرتبه الاولي الحالات المستقبله قق حاله بينها قق امراه تعرضن لعنف اقتصادي قق حالات اغتصاب متبوعه بجهه تادله ازيلال ققخ حاله بينها حالات اغتصاب متعلقه بالتحرش الجنسي قق حاله حرمان النفقه وجهه تازه الحسيمه تاونات قق حالات قق تعرضن الي عنف جسدي قق حاله لعنف يستقبل المركز جهه العيون بوجدور الساقيه الحمراء سوي قق نساء معنفات بينها حالتا اغتصاب وتحرش جنسي قق حاله عنف اقتصادي قق امراه حرمت النفقه وعدد مماثل تعرضن الي عنف قانوني قق حاله عنف جسدي سجلت بجهات وادي الذهب وكلميم السماره وسوس ماسه درعه تباعا قق قق قق حاله عنف\n",
            "0\n",
            "دول اختارت استراتيجيه دقيقه لمواجهه الجواءح رغم المغرب يسجل تقدما علي مستوي الاجهزه والاليات الكفيله بالوقايه الكوارث الطبيعيه دستور يوليوز قق والاستراتيجيه الوطنيه لحمايه البيءه والتنميه المستدامه واستراتيجيه تدبير الموارد الماءيه عمل هيوكو خطه عمل دوليه الوقايه الكوارث اعتبر التقدم ضعيفا\n",
            "0\n",
            "وتابع نريد نتخذ الخطوه\n",
            "1\n",
            "ونبه المدير العام للمكتب الوطني المغربي للسياحه حل ضيفا علي نادي ليكونوميست بالرباط الجمعه الي عكس الشاءع بالقول ارتفاع السياح الوافدين علي المغرب يوازيه ارتفاع المداخيل رغم السياحه المغربيه قاءمه علي الخدمات الراقيه ارتفعت المداخيل العمله الصعبه السنه بحوالي السياق ذاته الي التوقعات تفيد المءشرات مازالت تدل علي مزيد الارتفاع بالنظر الي المواعد الرياضيه الهامه تحتضنها البلاد السنه الجاريه وبدايه العام المءتمرات والانشطه والاقليمي فمراكش لوحدها ستشهد تنظيم قق مءتمرا بدءا التاريخ الي السنه زويتن اللقاء ذاته علي المغرب حافظ علي زبناءه التقليديين علي راسهم الفرنسيون توافدوا بقوه علي البلاد السنه تراجع السياح المغاربه المتوجهين الي فرنسا مقارنه بالاعوام الماضيه ورغم نسبه العوده تناهز قق الماءه مجموع السياح الوافدين علي المغرب شدد مسءول المكتب الوطني المغربي للسياحه علي ضروره مواصله العمل شيء حكم المكتسب تمت السيطره لاننا قطاع متطلب تحكمه التنافسيه يقول زويتن اعتبر ضمان الجوده وحده الكفيل بالحفاظ علي المءشرات منحي متصاعد وتحقيق اهداف رءيه السياق ذاته كشف زويتن علاوه علي مساله الجوده يعد محورا التسويق والتواصل صمام الامان للحفاظ علي تطور القطاع السياحي يكفي تجهيز البنيات التحتيه فنادق ومركبات سياحيه للقول المغرب جاهز لاستقبال قق ساءح الامر يتعلق بمنظومه يجب الحرص علي ضمان انسجامها بدءا ساءق سياره الاجره والمواطن البسيط يعي اهميه القطاع السياحي تطوير بلده يضمن مناصب شغل وفرص للتنميه الحقيقيه فيحافظ علي نظافه محيطه وصولا الي الفنادق ودور الايواء علاوه علي تكوين العاملين المجال بالاضافه الي مءشر استشعار الامن\n",
            "0\n",
            "وتتخصص منصه سيمراش مجال خدمات التسويق الرقمي اذ تتيح للمستخدمين الادوات اللازمه لاحتلال مواقع متقدمه مجالاتهم وتقدم خدماتها لاكثر ملايين متخصص التسويق مختلف ارجاء العالم ترتبط بشراكات صق الاف وكاله العالم\n",
            "0\n",
            "شركه ريتش القابضه فهي شركه اميركيه مساهمه يصل راسمالها الي قق اميركي تاسست علي يد رجل الاعمال الفلسطيني مالك ملحم\n",
            "1\n",
            "صمت يدم طويلا كشف حميد طقوس التزوير قاءلا عمليه تذوق نماذج المواد الغذاءيه المراد تزويرها للتاكد زالت صالحه للاستهلاك مءقتا بحكم اهمال الخطوه سيءدي الي افتضاح الامر اذ يعقل يوضع تاريخ طويل الامد علي البضاعه وعلامات التلف باديه بالعين المجرده سيثير انتباه سيقتنيها واخر نظره\n",
            "0\n",
            "وزير الماليه ناجي اقبال الظروف العالميه اسهمت فقد الاقتصاد لزخمه الاصلاحات ستدعم النمو الاشهر المقبله\n",
            "1\n",
            "اهتز درب البلديه بسيدي عثمان بالدار البيضاء الثلاثاء علي وقع خبر اغتصاب يتيمه معاقه ذهنيا اكدت للشرطه تعيش بيت ارمله والدها اخوتها الاشقاء يكن تحدد عنوان مسكنها حالتها النفسيه وخوفها الشديد\n",
            "0\n"
          ]
        }
      ],
      "source": [
        "for i in range(10):\n",
        "    print(df_merge['Sentence'][i])\n",
        "    print(df_merge[\"Label\"][i])"
      ]
    },
    {
      "cell_type": "markdown",
      "metadata": {},
      "source": [
        "### Save cleaned data in CSV format"
      ]
    },
    {
      "cell_type": "code",
      "execution_count": null,
      "metadata": {
        "id": "jKXJEcG4Pfiy"
      },
      "outputs": [],
      "source": [
        "df.to_csv(r'E:\\My Data\\Graduation project work\\datasets\\Arabic fake news dataset\\Arabic_pre2.csv')"
      ]
    },
    {
      "cell_type": "code",
      "execution_count": null,
      "metadata": {
        "id": "6OAbxqGjPfiz"
      },
      "outputs": [],
      "source": [
        "dff= pd.read_csv('/content/drive/MyDrive/Untitled folder/Arabic_pre2.csv')"
      ]
    },
    {
      "cell_type": "code",
      "execution_count": null,
      "metadata": {
        "id": "xP67_UfzPfi0"
      },
      "outputs": [],
      "source": [
        "dff=dff.reset_index(drop=True)"
      ]
    },
    {
      "cell_type": "code",
      "execution_count": null,
      "metadata": {
        "colab": {
          "base_uri": "https://localhost:8080/",
          "height": 206
        },
        "id": "E-aJoWzGaVCr",
        "outputId": "740669fa-dc71-446c-9255-06fa43518f49"
      },
      "outputs": [
        {
          "data": {
            "text/html": [
              "\n",
              "  <div id=\"df-a369a9b5-0459-4f00-af36-8001af7c03ea\">\n",
              "    <div class=\"colab-df-container\">\n",
              "      <div>\n",
              "<style scoped>\n",
              "    .dataframe tbody tr th:only-of-type {\n",
              "        vertical-align: middle;\n",
              "    }\n",
              "\n",
              "    .dataframe tbody tr th {\n",
              "        vertical-align: top;\n",
              "    }\n",
              "\n",
              "    .dataframe thead th {\n",
              "        text-align: right;\n",
              "    }\n",
              "</style>\n",
              "<table border=\"1\" class=\"dataframe\">\n",
              "  <thead>\n",
              "    <tr style=\"text-align: right;\">\n",
              "      <th></th>\n",
              "      <th>Unnamed: 0</th>\n",
              "      <th>Sentence</th>\n",
              "      <th>Label</th>\n",
              "    </tr>\n",
              "  </thead>\n",
              "  <tbody>\n",
              "    <tr>\n",
              "      <th>439237</th>\n",
              "      <td>439237</td>\n",
              "      <td>\"لكن المؤسسة الوطنية للنفط التي في الشرق قالت ...</td>\n",
              "      <td>0</td>\n",
              "    </tr>\n",
              "    <tr>\n",
              "      <th>433696</th>\n",
              "      <td>433696</td>\n",
              "      <td>قرار المجلس الدستوري وضمانات المحاكمة العادلة ...</td>\n",
              "      <td>0</td>\n",
              "    </tr>\n",
              "    <tr>\n",
              "      <th>62002</th>\n",
              "      <td>62002</td>\n",
              "      <td>8 مليون اورو عن كل فوز , و 895 الف اورو عن كل ...</td>\n",
              "      <td>0</td>\n",
              "    </tr>\n",
              "    <tr>\n",
              "      <th>16600</th>\n",
              "      <td>16600</td>\n",
              "      <td>وامر الملك سلمان بن عبد العزيز عاهل السعودية ا...</td>\n",
              "      <td>1</td>\n",
              "    </tr>\n",
              "    <tr>\n",
              "      <th>75465</th>\n",
              "      <td>75465</td>\n",
              "      <td>\"وقال \"\" انضم اليوم في افغانستان الي الصائمين ...</td>\n",
              "      <td>1</td>\n",
              "    </tr>\n",
              "  </tbody>\n",
              "</table>\n",
              "</div>\n",
              "      <button class=\"colab-df-convert\" onclick=\"convertToInteractive('df-a369a9b5-0459-4f00-af36-8001af7c03ea')\"\n",
              "              title=\"Convert this dataframe to an interactive table.\"\n",
              "              style=\"display:none;\">\n",
              "        \n",
              "  <svg xmlns=\"http://www.w3.org/2000/svg\" height=\"24px\"viewBox=\"0 0 24 24\"\n",
              "       width=\"24px\">\n",
              "    <path d=\"M0 0h24v24H0V0z\" fill=\"none\"/>\n",
              "    <path d=\"M18.56 5.44l.94 2.06.94-2.06 2.06-.94-2.06-.94-.94-2.06-.94 2.06-2.06.94zm-11 1L8.5 8.5l.94-2.06 2.06-.94-2.06-.94L8.5 2.5l-.94 2.06-2.06.94zm10 10l.94 2.06.94-2.06 2.06-.94-2.06-.94-.94-2.06-.94 2.06-2.06.94z\"/><path d=\"M17.41 7.96l-1.37-1.37c-.4-.4-.92-.59-1.43-.59-.52 0-1.04.2-1.43.59L10.3 9.45l-7.72 7.72c-.78.78-.78 2.05 0 2.83L4 21.41c.39.39.9.59 1.41.59.51 0 1.02-.2 1.41-.59l7.78-7.78 2.81-2.81c.8-.78.8-2.07 0-2.86zM5.41 20L4 18.59l7.72-7.72 1.47 1.35L5.41 20z\"/>\n",
              "  </svg>\n",
              "      </button>\n",
              "      \n",
              "  <style>\n",
              "    .colab-df-container {\n",
              "      display:flex;\n",
              "      flex-wrap:wrap;\n",
              "      gap: 12px;\n",
              "    }\n",
              "\n",
              "    .colab-df-convert {\n",
              "      background-color: #E8F0FE;\n",
              "      border: none;\n",
              "      border-radius: 50%;\n",
              "      cursor: pointer;\n",
              "      display: none;\n",
              "      fill: #1967D2;\n",
              "      height: 32px;\n",
              "      padding: 0 0 0 0;\n",
              "      width: 32px;\n",
              "    }\n",
              "\n",
              "    .colab-df-convert:hover {\n",
              "      background-color: #E2EBFA;\n",
              "      box-shadow: 0px 1px 2px rgba(60, 64, 67, 0.3), 0px 1px 3px 1px rgba(60, 64, 67, 0.15);\n",
              "      fill: #174EA6;\n",
              "    }\n",
              "\n",
              "    [theme=dark] .colab-df-convert {\n",
              "      background-color: #3B4455;\n",
              "      fill: #D2E3FC;\n",
              "    }\n",
              "\n",
              "    [theme=dark] .colab-df-convert:hover {\n",
              "      background-color: #434B5C;\n",
              "      box-shadow: 0px 1px 3px 1px rgba(0, 0, 0, 0.15);\n",
              "      filter: drop-shadow(0px 1px 2px rgba(0, 0, 0, 0.3));\n",
              "      fill: #FFFFFF;\n",
              "    }\n",
              "  </style>\n",
              "\n",
              "      <script>\n",
              "        const buttonEl =\n",
              "          document.querySelector('#df-a369a9b5-0459-4f00-af36-8001af7c03ea button.colab-df-convert');\n",
              "        buttonEl.style.display =\n",
              "          google.colab.kernel.accessAllowed ? 'block' : 'none';\n",
              "\n",
              "        async function convertToInteractive(key) {\n",
              "          const element = document.querySelector('#df-a369a9b5-0459-4f00-af36-8001af7c03ea');\n",
              "          const dataTable =\n",
              "            await google.colab.kernel.invokeFunction('convertToInteractive',\n",
              "                                                     [key], {});\n",
              "          if (!dataTable) return;\n",
              "\n",
              "          const docLinkHtml = 'Like what you see? Visit the ' +\n",
              "            '<a target=\"_blank\" href=https://colab.research.google.com/notebooks/data_table.ipynb>data table notebook</a>'\n",
              "            + ' to learn more about interactive tables.';\n",
              "          element.innerHTML = '';\n",
              "          dataTable['output_type'] = 'display_data';\n",
              "          await google.colab.output.renderOutput(dataTable, element);\n",
              "          const docLink = document.createElement('div');\n",
              "          docLink.innerHTML = docLinkHtml;\n",
              "          element.appendChild(docLink);\n",
              "        }\n",
              "      </script>\n",
              "    </div>\n",
              "  </div>\n",
              "  "
            ],
            "text/plain": [
              "        Unnamed: 0                                           Sentence Label\n",
              "439237      439237  \"لكن المؤسسة الوطنية للنفط التي في الشرق قالت ...     0\n",
              "433696      433696  قرار المجلس الدستوري وضمانات المحاكمة العادلة ...     0\n",
              "62002        62002  8 مليون اورو عن كل فوز , و 895 الف اورو عن كل ...     0\n",
              "16600        16600  وامر الملك سلمان بن عبد العزيز عاهل السعودية ا...     1\n",
              "75465        75465  \"وقال \"\" انضم اليوم في افغانستان الي الصائمين ...     1"
            ]
          },
          "execution_count": 6,
          "metadata": {},
          "output_type": "execute_result"
        }
      ],
      "source": [
        "dff = dff.sample(frac = 1)\n",
        "dff.loc[(dff['Label'] == 'Not_fake'), ['Label']] = '1'\n",
        "dff.loc[(dff['Label'] == 'Fake'), ['Label']] = '0'\n",
        "dff.head()"
      ]
    },
    {
      "cell_type": "code",
      "execution_count": null,
      "metadata": {
        "id": "OlhKsSv_Pfjb"
      },
      "outputs": [],
      "source": []
    }
  ],
  "metadata": {
    "colab": {
      "collapsed_sections": [],
      "name": "Arabic merged files+Pre.ipynb",
      "provenance": []
    },
    "interpreter": {
      "hash": "380030d1298d5a27518acca789ff38fe82bbf2e68b73263de6a6bf23efb7704c"
    },
    "kernelspec": {
      "display_name": "Python 3.8.5 ('base')",
      "language": "python",
      "name": "python3"
    },
    "language_info": {
      "codemirror_mode": {
        "name": "ipython",
        "version": 3
      },
      "file_extension": ".py",
      "mimetype": "text/x-python",
      "name": "python",
      "nbconvert_exporter": "python",
      "pygments_lexer": "ipython3",
      "version": "3.8.5"
    },
    "orig_nbformat": 4
  },
  "nbformat": 4,
  "nbformat_minor": 0
}
